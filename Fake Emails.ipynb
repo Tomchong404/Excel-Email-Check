{
 "cells": [
  {
   "cell_type": "code",
   "execution_count": 9,
   "id": "24eb6da1",
   "metadata": {},
   "outputs": [],
   "source": [
    "from faker import Faker\n",
    "import pandas as pd\n",
    "fake = Faker()"
   ]
  },
  {
   "cell_type": "code",
   "execution_count": 10,
   "id": "63570413",
   "metadata": {},
   "outputs": [
    {
     "name": "stdout",
     "output_type": "stream",
     "text": [
      "JenniferTaylor69@gmail.com\n"
     ]
    }
   ],
   "source": [
    "#fake email\n",
    "def generate_email():\n",
    "    email = \"\"\n",
    "    name = fake.name()\n",
    "    number = str(fake.random_number(digits=2))\n",
    "    email += name.replace(\" \", \"\") + number + \"@gmail.com\"\n",
    "    return email\n",
    "print(generate_email())"
   ]
  },
  {
   "cell_type": "code",
   "execution_count": 11,
   "id": "ca5e4525",
   "metadata": {},
   "outputs": [
    {
     "name": "stdout",
     "output_type": "stream",
     "text": [
      "Generated Fake Emails\n"
     ]
    }
   ],
   "source": [
    "Faker.seed()\n",
    "seed_value = 1234\n",
    "fake.seed_instance(seed_value)\n",
    "\n",
    "def generate_email():\n",
    "    email = \"\"\n",
    "    name = fake.name()\n",
    "    number = str(fake.random_number(digits=2))\n",
    "    email += name.replace(\" \", \"\") + number + \"@gmail.com\"\n",
    "    return email\n",
    "\n",
    "def email(num_email):\n",
    "    email_list = []\n",
    "    for _ in range(num_email):\n",
    "        email = {\"Fake Email\": generate_email(),\n",
    "                 \"Fake Email 2\": generate_email()}\n",
    "        email_list.append(email)\n",
    "    return pd.DataFrame(email_list)\n",
    "\n",
    "email_df = email(300)\n",
    "\n",
    "# Save the DataFrame to a CSV file with explicit UTF-8 encoding\n",
    "email_df.to_csv('Fake Emails.csv', encoding='utf-8', index=False)\n",
    "\n",
    "print(\"Generated Fake Emails\")"
   ]
  }
 ],
 "metadata": {
  "kernelspec": {
   "display_name": "Python 3 (ipykernel)",
   "language": "python",
   "name": "python3"
  },
  "language_info": {
   "codemirror_mode": {
    "name": "ipython",
    "version": 3
   },
   "file_extension": ".py",
   "mimetype": "text/x-python",
   "name": "python",
   "nbconvert_exporter": "python",
   "pygments_lexer": "ipython3",
   "version": "3.9.13"
  }
 },
 "nbformat": 4,
 "nbformat_minor": 5
}

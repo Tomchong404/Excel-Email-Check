{
 "cells": [
  {
   "cell_type": "code",
   "execution_count": 67,
   "id": "09f8bb86",
   "metadata": {},
   "outputs": [],
   "source": [
    "import csv\n",
    "import pandas as pd\n",
    "import re"
   ]
  },
  {
   "cell_type": "code",
   "execution_count": 68,
   "id": "afb7362b",
   "metadata": {},
   "outputs": [
    {
     "name": "stdout",
     "output_type": "stream",
     "text": [
      "                    Fake Email                   Fake Email 2\n",
      "0     JessicaSmith74@gmail.com      MichaelGarcia45@gmail.com\n",
      "1   AndreMccormick44@gmail.com           KariFord11@gmail.com\n",
      "2       BrianSmith62@gmail.com  DanielleContreras59@gmail.com\n",
      "3  MichaelRobertson5@gmail.com       JustinNewman61@gmail.com\n",
      "4      DeborahRios25@gmail.com        JosephSmith65@gmail.com\n"
     ]
    }
   ],
   "source": [
    "# Read file to compare\n",
    "file_name = 'Fake Emails.csv'\n",
    "df = pd.read_csv(file_name)\n",
    "print(df.head())"
   ]
  },
  {
   "cell_type": "code",
   "execution_count": 69,
   "id": "cb7f9f40",
   "metadata": {},
   "outputs": [
    {
     "name": "stdout",
     "output_type": "stream",
     "text": [
      "                      Fake Email\n",
      "0       JessicaSmith74@gmail.com\n",
      "1     AndreMccormick44@gmail.com\n",
      "2         BrianSmith62@gmail.com\n",
      "3    MichaelRobertson5@gmail.com\n",
      "4        DeborahRios25@gmail.com\n",
      "..                           ...\n",
      "295     BrianBurnett64@gmail.com\n",
      "296       ChadMosley75@gmail.com\n",
      "297  TeresaBrooksPhD31@gmail.com\n",
      "298   SarahNicholson87@gmail.com\n",
      "299       KelseyKing19@gmail.com\n",
      "\n",
      "[300 rows x 1 columns]\n"
     ]
    }
   ],
   "source": [
    "# Select specific column\n",
    "df = df[['Fake Email']]\n",
    "print(df)"
   ]
  },
  {
   "cell_type": "code",
   "execution_count": 70,
   "id": "713ab046",
   "metadata": {},
   "outputs": [
    {
     "name": "stdout",
     "output_type": "stream",
     "text": [
      "enter your email: TomTesting74@gmail.com ChongTesting44@gmail.com BrianTrails123@gmail.com MichaelRobertson5@gmail.com DeborahRios25@gmail.com GavinMckinney84@gmail.com DanielJohnson44@gmail.com JasonBates5@gmail.com JulieHart97@gmail.com TimothyBerg76@gmail.com CalebLopez55@gmail.com RobertScott24@gmail.com TerriStanton92@gmail.com AnthonyMitchell4@gmail.com Mrs.JuliaRichardsDVM88@gmail.com JuliaYoung46@gmail.com KevinTurner45@gmail.com CharlesWilliams21@gmail.com MichaelBrown11@gmail.com FrederickBonilla86@gmail.com ElizabethFlores73@gmail.com JamesCunningham67@gmail.com JenniferBailey56@gmail.com JamesPatterson87@gmail.com JacobBurke26@gmail.com AllenFlynn59@gmail.com CharlesWhitehead75@gmail.com MichaelRivera37@gmail.com LindseyMorgan42@gmail.com KimberlyHolloway32@gmail.com ValerieEstradaDVM66@gmail.com DeborahWashington74@gmail.com ErinElliott20@gmail.com LisaJones68@gmail.com MelissaLong41@gmail.com JillWatson47@gmail.com EmilyHanson25@gmail.com VanessaJohnson10@gmail.com MarilynSteele3@gmail.com AlbertRowe77@gmail.com DawnPaul76@gmail.com JacobMitchell40@gmail.com KimberlyWatkins68@gmail.com MariaBryant21@gmail.com JeremyFlowers93@gmail.com NicoleMatthews61@gmail.com MichelleRice51@gmail.com JustinAguirre32@gmail.com HeatherKelley24@gmail.com JeremyWarren69@gmail.com GabriellaGray88@gmail.com BrettBrown86@gmail.com MichelleOrr21@gmail.com SusanPadilla78@gmail.com JeremyShaw43@gmail.com KatherineWright36@gmail.com TylerDorsey45@gmail.com PennyRobbins91@gmail.com KarlaChan30@gmail.com ReneeFleming38@gmail.com JamesThompson17@gmail.com DebraRangel55@gmail.com JeffreyRamos96@gmail.com WilliamMcgrath25@gmail.com JenniferSmith44@gmail.com JackAlexander87@gmail.com MariahStone96@gmail.com KevinSmith89@gmail.com JasonWilliams50@gmail.com RichardRichardson21@gmail.com DerrickShaw44@gmail.com JenniferOlson90@gmail.com AntonioPhillipsMD22@gmail.com SusanFlowers41@gmail.com EricRodgers63@gmail.com SheilaFriedman10@gmail.com Dr.AmandaSolis56@gmail.com KevinBeltran24@gmail.com MarciaPotts82@gmail.com SethJones77@gmail.com CindyShaffer57@gmail.com MeganRiley51@gmail.com SharonCooper27@gmail.com BarryJohnson38@gmail.com AliciaBryant27@gmail.com AmandaAnderson45@gmail.com LukeCastro63@gmail.com SaraFisher40@gmail.com CarolynReynolds63@gmail.com ElizabethHill18@gmail.com DanielleJackson77@gmail.com SeanSolomon81@gmail.com EricAlvarez86@gmail.com TimothyOdonnell53@gmail.com LynnCook24@gmail.com JefferyPrice52@gmail.com KeithHarris88@gmail.com MackenzieGates16@gmail.com CourtneyPeters40@gmail.com KristinThompson57@gmail.com JohnOrtega6@gmail.com MalikJones19@gmail.com JoshuaSchroeder6@gmail.com ZacharyKaufman6@gmail.com BrianHart10@gmail.com MonicaParks37@gmail.com EricHarmon67@gmail.com TylerCohen23@gmail.com LisaGibson15@gmail.com AshleyMorris50@gmail.com LoriSchwartz67@gmail.com HelenHumphrey5@gmail.com ConnieLawrence97@gmail.com EdwardClarke8@gmail.com XavierPollard58@gmail.com CurtisNelson83@gmail.com JeffreySmith74@gmail.com JillianHays74@gmail.com JenniferReyes70@gmail.com JosephRusso11@gmail.com NicoleMoon25@gmail.com StevenStephens56@gmail.com NathanHodge81@gmail.com BrianHunt62@gmail.com RichardRodriguez52@gmail.com LeahNelson71@gmail.com RicardoMeza7@gmail.com MichelleWyatt34@gmail.com PamelaSantos44@gmail.com JohnWilliams3@gmail.com JessicaGeorge20@gmail.com GloriaDavis75@gmail.com JasonWalker66@gmail.com JonathanNobleDVM30@gmail.com BruceGaines90@gmail.com StevenGoodwin92@gmail.com PamHill26@gmail.com LynnJackson18@gmail.com JohnnyChavez44@gmail.com KarenBaxter26@gmail.com JasmineLee45@gmail.com ShannonBryant55@gmail.com LarryBrown5@gmail.com CodyHorton9@gmail.com CharlesGriffin12@gmail.com JosephTaylor66@gmail.com CynthiaMcclure16@gmail.com CharlesMckenzie88@gmail.com NancyWall46@gmail.com CarlosJohnson31@gmail.com JulieDawson45@gmail.com WilliamEwing87@gmail.com NoahCarlson11@gmail.com LawrenceDuran31@gmail.com LindsayStanleyMD14@gmail.com JesseEscobar94@gmail.com LisaPorter97@gmail.com MichaelAnthony5@gmail.com CourtneyClay90@gmail.com DanielCooper54@gmail.com JaclynSanders57@gmail.com DustinParker74@gmail.com KathySullivan98@gmail.com ChadJohnson98@gmail.com EdwardJensen69@gmail.com JamieGibbs69@gmail.com SallyFlowers14@gmail.com SarahLyons79@gmail.com StephanieFarley35@gmail.com MaryHiggins50@gmail.com EdwardGomez14@gmail.com JennyTucker5@gmail.com AndreaAlexander18@gmail.com JessicaJohnson69@gmail.com RonnieAlvarado30@gmail.com KeithMurphy35@gmail.com ChadJohnson86@gmail.com GregoryBell90@gmail.com AlanMarshall65@gmail.com CynthiaBray35@gmail.com LindseyRojas13@gmail.com MelissaBaker80@gmail.com JeanetteHouston7@gmail.com RobertTaylor71@gmail.com JoannaJimenez17@gmail.com ChadBanks8@gmail.com ChristopherKing52@gmail.com JosephWard6@gmail.com MaryArnold18@gmail.com AshleyOliver28@gmail.com BrandyLeonard64@gmail.com AndrewShort82@gmail.com DerekCarpenter22@gmail.com PeggySalazar13@gmail.com RichardBuchanan37@gmail.com MarkUnderwood4@gmail.com RobertGarcia4@gmail.com EdwardLane77@gmail.com CaseyMason55@gmail.com RobertHamilton31@gmail.com JulieWilliams89@gmail.com LisaHill58@gmail.com AndreaBaker19@gmail.com ElizabethAguirre15@gmail.com AmandaCastillo69@gmail.com AliciaBryant89@gmail.com AllisonBurns83@gmail.com MatthewSilva10@gmail.com TylerMiller38@gmail.com CherylMosley31@gmail.com TroyHernandez35@gmail.com TaraVelasquez79@gmail.com RobertLawson44@gmail.com AshleyFrazier37@gmail.com EricaMartinez88@gmail.com ToddWilliams74@gmail.com MichaelHernandez66@gmail.com ElizabethSmith24@gmail.com MelissaMyers6@gmail.com CynthiaRodriguez7@gmail.com JustinLucero67@gmail.com JacobMurphy19@gmail.com KristyRiggs13@gmail.com JordanParker99@gmail.com EmilyIngram10@gmail.com MarkGreen63@gmail.com RobertMcguire37@gmail.com EdwardGonzales68@gmail.com WendyHarvey90@gmail.com JonathonSmith44@gmail.com KimberlyCruz11@gmail.com TiffanyWalsh88@gmail.com Mr.BrandonThomas67@gmail.com MaryAnderson40@gmail.com HannahThompson5@gmail.com JacobSantos22@gmail.com GeoffreyMartinez71@gmail.com RobertPetersen2@gmail.com SummerStrickland70@gmail.com AshleyBlake33@gmail.com AshleyClark16@gmail.com RyanMiller11@gmail.com TracyYang56@gmail.com BrandonJohnson5@gmail.com TiffanyBrown86@gmail.com AnnaWalker85@gmail.com TerriWheeler21@gmail.com ThomasBaxter27@gmail.com EvelynSantos1@gmail.com ThomasBrownMD46@gmail.com DanaWhite44@gmail.com JenniferWard65@gmail.com CarolStephens99@gmail.com JocelynYoung81@gmail.com ScottBryant79@gmail.com ThomasWhite62@gmail.com PatrickHendricks87@gmail.com JeffreyGonzales0@gmail.com RickJackson53@gmail.com KevinPrice32@gmail.com TiffanyMorris6@gmail.com CassieBrown50@gmail.com SheliaMann1@gmail.com BrittanyHuff88@gmail.com TeresaDiaz21@gmail.com AndrewBarnes39@gmail.com TimothyWolf46@gmail.com AmyJackson90@gmail.com KristinaPotts45@gmail.com GregoryGuzman24@gmail.com JenniferWhitney17@gmail.com JenniferWoodward2@gmail.com MariaLove25@gmail.com PaulHansen1@gmail.com KevinSchmidt85@gmail.com Mr.AndrewBrewerMD14@gmail.com JenniferHester55@gmail.com KristinaGarner52@gmail.com AutumnHinton36@gmail.com DonnaRamirez20@gmail.com RickyHancockMD76@gmail.com KimberlyDougherty71@gmail.com CristinaShea79@gmail.com JamiePatel13@gmail.com DebraPruitt37@gmail.com StacyEvans74@gmail.com BrendaGonzalez26@gmail.com TeresaBaker77@gmail.com JacquelineHenryMD29@gmail.com JenniferHill98@gmail.com ShawnPreston24@gmail.com KennethPayne74@gmail.com SaraSmith44@gmail.com TheresaWu12@gmail.com LaurenAtkinson43@gmail.com BrianBurnett64@gmail.com ChadMosley75@gmail.com TeresaBrooksPhD31@gmail.com SarahNicholson87@gmail.com KelseyKing19@gmail.com\n"
     ]
    }
   ],
   "source": [
    "# Compare against emailing list from outlook \n",
    "email_list = []\n",
    "entry = input(\"enter your email: \")\n",
    "email_list = entry.split(';')"
   ]
  },
  {
   "cell_type": "code",
   "execution_count": 71,
   "id": "999aa8b7",
   "metadata": {},
   "outputs": [
    {
     "name": "stdout",
     "output_type": "stream",
     "text": [
      "['TomTesting74@gmail.com', 'ChongTesting44@gmail.com', 'BrianTrails123@gmail.com', 'MichaelRobertson5@gmail.com', 'DeborahRios25@gmail.com', 'GavinMckinney84@gmail.com', 'DanielJohnson44@gmail.com', 'JasonBates5@gmail.com', 'JulieHart97@gmail.com', 'TimothyBerg76@gmail.com', 'CalebLopez55@gmail.com', 'RobertScott24@gmail.com', 'TerriStanton92@gmail.com', 'AnthonyMitchell4@gmail.com', 'Mrs.JuliaRichardsDVM88@gmail.com', 'JuliaYoung46@gmail.com', 'KevinTurner45@gmail.com', 'CharlesWilliams21@gmail.com', 'MichaelBrown11@gmail.com', 'FrederickBonilla86@gmail.com', 'ElizabethFlores73@gmail.com', 'JamesCunningham67@gmail.com', 'JenniferBailey56@gmail.com', 'JamesPatterson87@gmail.com', 'JacobBurke26@gmail.com', 'AllenFlynn59@gmail.com', 'CharlesWhitehead75@gmail.com', 'MichaelRivera37@gmail.com', 'LindseyMorgan42@gmail.com', 'KimberlyHolloway32@gmail.com', 'ValerieEstradaDVM66@gmail.com', 'DeborahWashington74@gmail.com', 'ErinElliott20@gmail.com', 'LisaJones68@gmail.com', 'MelissaLong41@gmail.com', 'JillWatson47@gmail.com', 'EmilyHanson25@gmail.com', 'VanessaJohnson10@gmail.com', 'MarilynSteele3@gmail.com', 'AlbertRowe77@gmail.com', 'DawnPaul76@gmail.com', 'JacobMitchell40@gmail.com', 'KimberlyWatkins68@gmail.com', 'MariaBryant21@gmail.com', 'JeremyFlowers93@gmail.com', 'NicoleMatthews61@gmail.com', 'MichelleRice51@gmail.com', 'JustinAguirre32@gmail.com', 'HeatherKelley24@gmail.com', 'JeremyWarren69@gmail.com', 'GabriellaGray88@gmail.com', 'BrettBrown86@gmail.com', 'MichelleOrr21@gmail.com', 'SusanPadilla78@gmail.com', 'JeremyShaw43@gmail.com', 'KatherineWright36@gmail.com', 'TylerDorsey45@gmail.com', 'PennyRobbins91@gmail.com', 'KarlaChan30@gmail.com', 'ReneeFleming38@gmail.com', 'JamesThompson17@gmail.com', 'DebraRangel55@gmail.com', 'JeffreyRamos96@gmail.com', 'WilliamMcgrath25@gmail.com', 'JenniferSmith44@gmail.com', 'JackAlexander87@gmail.com', 'MariahStone96@gmail.com', 'KevinSmith89@gmail.com', 'JasonWilliams50@gmail.com', 'RichardRichardson21@gmail.com', 'DerrickShaw44@gmail.com', 'JenniferOlson90@gmail.com', 'AntonioPhillipsMD22@gmail.com', 'SusanFlowers41@gmail.com', 'EricRodgers63@gmail.com', 'SheilaFriedman10@gmail.com', 'Dr.AmandaSolis56@gmail.com', 'KevinBeltran24@gmail.com', 'MarciaPotts82@gmail.com', 'SethJones77@gmail.com', 'CindyShaffer57@gmail.com', 'MeganRiley51@gmail.com', 'SharonCooper27@gmail.com', 'BarryJohnson38@gmail.com', 'AliciaBryant27@gmail.com', 'AmandaAnderson45@gmail.com', 'LukeCastro63@gmail.com', 'SaraFisher40@gmail.com', 'CarolynReynolds63@gmail.com', 'ElizabethHill18@gmail.com', 'DanielleJackson77@gmail.com', 'SeanSolomon81@gmail.com', 'EricAlvarez86@gmail.com', 'TimothyOdonnell53@gmail.com', 'LynnCook24@gmail.com', 'JefferyPrice52@gmail.com', 'KeithHarris88@gmail.com', 'MackenzieGates16@gmail.com', 'CourtneyPeters40@gmail.com', 'KristinThompson57@gmail.com', 'JohnOrtega6@gmail.com', 'MalikJones19@gmail.com', 'JoshuaSchroeder6@gmail.com', 'ZacharyKaufman6@gmail.com', 'BrianHart10@gmail.com', 'MonicaParks37@gmail.com', 'EricHarmon67@gmail.com', 'TylerCohen23@gmail.com', 'LisaGibson15@gmail.com', 'AshleyMorris50@gmail.com', 'LoriSchwartz67@gmail.com', 'HelenHumphrey5@gmail.com', 'ConnieLawrence97@gmail.com', 'EdwardClarke8@gmail.com', 'XavierPollard58@gmail.com', 'CurtisNelson83@gmail.com', 'JeffreySmith74@gmail.com', 'JillianHays74@gmail.com', 'JenniferReyes70@gmail.com', 'JosephRusso11@gmail.com', 'NicoleMoon25@gmail.com', 'StevenStephens56@gmail.com', 'NathanHodge81@gmail.com', 'BrianHunt62@gmail.com', 'RichardRodriguez52@gmail.com', 'LeahNelson71@gmail.com', 'RicardoMeza7@gmail.com', 'MichelleWyatt34@gmail.com', 'PamelaSantos44@gmail.com', 'JohnWilliams3@gmail.com', 'JessicaGeorge20@gmail.com', 'GloriaDavis75@gmail.com', 'JasonWalker66@gmail.com', 'JonathanNobleDVM30@gmail.com', 'BruceGaines90@gmail.com', 'StevenGoodwin92@gmail.com', 'PamHill26@gmail.com', 'LynnJackson18@gmail.com', 'JohnnyChavez44@gmail.com', 'KarenBaxter26@gmail.com', 'JasmineLee45@gmail.com', 'ShannonBryant55@gmail.com', 'LarryBrown5@gmail.com', 'CodyHorton9@gmail.com', 'CharlesGriffin12@gmail.com', 'JosephTaylor66@gmail.com', 'CynthiaMcclure16@gmail.com', 'CharlesMckenzie88@gmail.com', 'NancyWall46@gmail.com', 'CarlosJohnson31@gmail.com', 'JulieDawson45@gmail.com', 'WilliamEwing87@gmail.com', 'NoahCarlson11@gmail.com', 'LawrenceDuran31@gmail.com', 'LindsayStanleyMD14@gmail.com', 'JesseEscobar94@gmail.com', 'LisaPorter97@gmail.com', 'MichaelAnthony5@gmail.com', 'CourtneyClay90@gmail.com', 'DanielCooper54@gmail.com', 'JaclynSanders57@gmail.com', 'DustinParker74@gmail.com', 'KathySullivan98@gmail.com', 'ChadJohnson98@gmail.com', 'EdwardJensen69@gmail.com', 'JamieGibbs69@gmail.com', 'SallyFlowers14@gmail.com', 'SarahLyons79@gmail.com', 'StephanieFarley35@gmail.com', 'MaryHiggins50@gmail.com', 'EdwardGomez14@gmail.com', 'JennyTucker5@gmail.com', 'AndreaAlexander18@gmail.com', 'JessicaJohnson69@gmail.com', 'RonnieAlvarado30@gmail.com', 'KeithMurphy35@gmail.com', 'ChadJohnson86@gmail.com', 'GregoryBell90@gmail.com', 'AlanMarshall65@gmail.com', 'CynthiaBray35@gmail.com', 'LindseyRojas13@gmail.com', 'MelissaBaker80@gmail.com', 'JeanetteHouston7@gmail.com', 'RobertTaylor71@gmail.com', 'JoannaJimenez17@gmail.com', 'ChadBanks8@gmail.com', 'ChristopherKing52@gmail.com', 'JosephWard6@gmail.com', 'MaryArnold18@gmail.com', 'AshleyOliver28@gmail.com', 'BrandyLeonard64@gmail.com', 'AndrewShort82@gmail.com', 'DerekCarpenter22@gmail.com', 'PeggySalazar13@gmail.com', 'RichardBuchanan37@gmail.com', 'MarkUnderwood4@gmail.com', 'RobertGarcia4@gmail.com', 'EdwardLane77@gmail.com', 'CaseyMason55@gmail.com', 'RobertHamilton31@gmail.com', 'JulieWilliams89@gmail.com', 'LisaHill58@gmail.com', 'AndreaBaker19@gmail.com', 'ElizabethAguirre15@gmail.com', 'AmandaCastillo69@gmail.com', 'AliciaBryant89@gmail.com', 'AllisonBurns83@gmail.com', 'MatthewSilva10@gmail.com', 'TylerMiller38@gmail.com', 'CherylMosley31@gmail.com', 'TroyHernandez35@gmail.com', 'TaraVelasquez79@gmail.com', 'RobertLawson44@gmail.com', 'AshleyFrazier37@gmail.com', 'EricaMartinez88@gmail.com', 'ToddWilliams74@gmail.com', 'MichaelHernandez66@gmail.com', 'ElizabethSmith24@gmail.com', 'MelissaMyers6@gmail.com', 'CynthiaRodriguez7@gmail.com', 'JustinLucero67@gmail.com', 'JacobMurphy19@gmail.com', 'KristyRiggs13@gmail.com', 'JordanParker99@gmail.com', 'EmilyIngram10@gmail.com', 'MarkGreen63@gmail.com', 'RobertMcguire37@gmail.com', 'EdwardGonzales68@gmail.com', 'WendyHarvey90@gmail.com', 'JonathonSmith44@gmail.com', 'KimberlyCruz11@gmail.com', 'TiffanyWalsh88@gmail.com', 'Mr.BrandonThomas67@gmail.com', 'MaryAnderson40@gmail.com', 'HannahThompson5@gmail.com', 'JacobSantos22@gmail.com', 'GeoffreyMartinez71@gmail.com', 'RobertPetersen2@gmail.com', 'SummerStrickland70@gmail.com', 'AshleyBlake33@gmail.com', 'AshleyClark16@gmail.com', 'RyanMiller11@gmail.com', 'TracyYang56@gmail.com', 'BrandonJohnson5@gmail.com', 'TiffanyBrown86@gmail.com', 'AnnaWalker85@gmail.com', 'TerriWheeler21@gmail.com', 'ThomasBaxter27@gmail.com', 'EvelynSantos1@gmail.com', 'ThomasBrownMD46@gmail.com', 'DanaWhite44@gmail.com', 'JenniferWard65@gmail.com', 'CarolStephens99@gmail.com', 'JocelynYoung81@gmail.com', 'ScottBryant79@gmail.com', 'ThomasWhite62@gmail.com', 'PatrickHendricks87@gmail.com', 'JeffreyGonzales0@gmail.com', 'RickJackson53@gmail.com', 'KevinPrice32@gmail.com', 'TiffanyMorris6@gmail.com', 'CassieBrown50@gmail.com', 'SheliaMann1@gmail.com', 'BrittanyHuff88@gmail.com', 'TeresaDiaz21@gmail.com', 'AndrewBarnes39@gmail.com', 'TimothyWolf46@gmail.com', 'AmyJackson90@gmail.com', 'KristinaPotts45@gmail.com', 'GregoryGuzman24@gmail.com', 'JenniferWhitney17@gmail.com', 'JenniferWoodward2@gmail.com', 'MariaLove25@gmail.com', 'PaulHansen1@gmail.com', 'KevinSchmidt85@gmail.com', 'Mr.AndrewBrewerMD14@gmail.com', 'JenniferHester55@gmail.com', 'KristinaGarner52@gmail.com', 'AutumnHinton36@gmail.com', 'DonnaRamirez20@gmail.com', 'RickyHancockMD76@gmail.com', 'KimberlyDougherty71@gmail.com', 'CristinaShea79@gmail.com', 'JamiePatel13@gmail.com', 'DebraPruitt37@gmail.com', 'StacyEvans74@gmail.com', 'BrendaGonzalez26@gmail.com', 'TeresaBaker77@gmail.com', 'JacquelineHenryMD29@gmail.com', 'JenniferHill98@gmail.com', 'ShawnPreston24@gmail.com', 'KennethPayne74@gmail.com', 'SaraSmith44@gmail.com', 'TheresaWu12@gmail.com', 'LaurenAtkinson43@gmail.com', 'BrianBurnett64@gmail.com', 'ChadMosley75@gmail.com', 'TeresaBrooksPhD31@gmail.com', 'SarahNicholson87@gmail.com', 'KelseyKing19@gmail.com']\n"
     ]
    }
   ],
   "source": [
    "# Extracting email addresses from user input\n",
    "email_addresses = []\n",
    "\n",
    "for item in email_list:\n",
    "    # Using regular expression to find email addresses\n",
    "    emails = re.findall(r'[\\w\\.-]+@[a-zA-Z\\d\\.-]+\\.[a-zA-Z]{2,}', item)\n",
    "    email_addresses.extend(emails)\n",
    "\n",
    "print(email_addresses)"
   ]
  },
  {
   "cell_type": "code",
   "execution_count": 76,
   "id": "51019187",
   "metadata": {},
   "outputs": [
    {
     "name": "stdout",
     "output_type": "stream",
     "text": [
      "['JonathanNobleDVM30@gmail.com', 'TerriStanton92@gmail.com', 'MariaBryant21@gmail.com', 'NicoleMatthews61@gmail.com', 'KristyRiggs13@gmail.com', 'JacobBurke26@gmail.com', 'ValerieEstradaDVM66@gmail.com', 'EmilyIngram10@gmail.com', 'LeahNelson71@gmail.com', 'MatthewSilva10@gmail.com', 'SaraFisher40@gmail.com', 'CynthiaRodriguez7@gmail.com', 'ElizabethFlores73@gmail.com', 'AllisonBurns83@gmail.com', 'LisaGibson15@gmail.com', 'JenniferHester55@gmail.com', 'VanessaJohnson10@gmail.com', 'JasmineLee45@gmail.com', 'LisaJones68@gmail.com', 'JustinAguirre32@gmail.com', 'TracyYang56@gmail.com', 'AshleyClark16@gmail.com', 'MelissaMyers6@gmail.com', 'MelissaLong41@gmail.com', 'TeresaBaker77@gmail.com', 'JeremyShaw43@gmail.com', 'GregoryBell90@gmail.com', 'BrianHunt62@gmail.com', 'LisaPorter97@gmail.com', 'KennethPayne74@gmail.com', 'MaryArnold18@gmail.com', 'LisaHill58@gmail.com', 'AndreMccormick44@gmail.com', 'HeatherKelley24@gmail.com', 'ChadJohnson98@gmail.com', 'GabriellaGray88@gmail.com', 'RonnieAlvarado30@gmail.com', 'MariaLove25@gmail.com', 'DeborahRios25@gmail.com', 'CharlesGriffin12@gmail.com', 'LawrenceDuran31@gmail.com', 'KevinPrice32@gmail.com', 'BrettBrown86@gmail.com', 'SusanPadilla78@gmail.com', 'JohnnyChavez44@gmail.com', 'MariahStone96@gmail.com', 'DonnaRamirez20@gmail.com', 'TheresaWu12@gmail.com', 'KatherineWright36@gmail.com', 'DanielleJackson77@gmail.com', 'JessicaGeorge20@gmail.com', 'LarryBrown5@gmail.com', 'LindseyMorgan42@gmail.com', 'AshleyBlake33@gmail.com', 'ChadMosley75@gmail.com', 'TylerMiller38@gmail.com', 'RicardoMeza7@gmail.com', 'DebraRangel55@gmail.com', 'JesseEscobar94@gmail.com', 'JustinLucero67@gmail.com', 'JaclynSanders57@gmail.com', 'DustinParker74@gmail.com', 'RichardBuchanan37@gmail.com', 'CarolStephens99@gmail.com', 'AliciaBryant89@gmail.com', 'RichardRichardson21@gmail.com', 'DeborahWashington74@gmail.com', 'DanielJohnson44@gmail.com', 'CharlesWhitehead75@gmail.com', 'JulieHart97@gmail.com', 'NoahCarlson11@gmail.com', 'PaulHansen1@gmail.com', 'JenniferBailey56@gmail.com', 'KimberlyHolloway32@gmail.com', 'JeremyWarren69@gmail.com', 'CindyShaffer57@gmail.com', 'CourtneyClay90@gmail.com', 'MichaelHernandez66@gmail.com', 'GloriaDavis75@gmail.com', 'JacobMitchell40@gmail.com', 'ScottBryant79@gmail.com', 'PennyRobbins91@gmail.com', 'JonathonSmith44@gmail.com', 'KimberlyCruz11@gmail.com', 'PamHill26@gmail.com', 'SusanFlowers41@gmail.com', 'WilliamEwing87@gmail.com', 'TeresaBrooksPhD31@gmail.com', 'JacobSantos22@gmail.com', 'LukeCastro63@gmail.com', 'PatrickHendricks87@gmail.com', 'KimberlyDougherty71@gmail.com', 'CharlesWilliams21@gmail.com', 'JohnOrtega6@gmail.com', 'JenniferSmith44@gmail.com', 'JordanParker99@gmail.com', 'AndreaBaker19@gmail.com', 'BruceGaines90@gmail.com', 'JennyTucker5@gmail.com', 'EmilyHanson25@gmail.com', 'DawnPaul76@gmail.com', 'PamelaSantos44@gmail.com', 'EdwardGonzales68@gmail.com', 'MaryAnderson40@gmail.com', 'BrianSmith62@gmail.com', 'ConnieLawrence97@gmail.com', 'CassieBrown50@gmail.com', 'LynnJackson18@gmail.com', 'JillWatson47@gmail.com', 'SheilaFriedman10@gmail.com', 'NancyWall46@gmail.com', 'AndrewShort82@gmail.com', 'RobertHamilton31@gmail.com', 'MichelleRice51@gmail.com', 'RobertLawson44@gmail.com', 'DerrickShaw44@gmail.com', 'CherylMosley31@gmail.com', 'RobertGarcia4@gmail.com', 'Mrs.JuliaRichardsDVM88@gmail.com', 'JamesCunningham67@gmail.com', 'MichaelBrown11@gmail.com', 'JasonBates5@gmail.com', 'JeffreyGonzales0@gmail.com', 'MichelleWyatt34@gmail.com', 'TylerCohen23@gmail.com', 'RickyHancockMD76@gmail.com', 'ChadBanks8@gmail.com', 'SaraSmith44@gmail.com', 'MarkGreen63@gmail.com', 'AmyJackson90@gmail.com', 'TiffanyMorris6@gmail.com', 'TimothyBerg76@gmail.com', 'RobertScott24@gmail.com', 'CarolynReynolds63@gmail.com', 'KevinSmith89@gmail.com', 'GeoffreyMartinez71@gmail.com', 'AlbertRowe77@gmail.com', 'JulieDawson45@gmail.com', 'RobertMcguire37@gmail.com', 'StephanieFarley35@gmail.com', 'ThomasWhite62@gmail.com', 'MarilynSteele3@gmail.com', 'SarahLyons79@gmail.com', 'RickJackson53@gmail.com', 'SeanSolomon81@gmail.com', 'MalikJones19@gmail.com', 'AshleyOliver28@gmail.com', 'JenniferWoodward2@gmail.com', 'LaurenAtkinson43@gmail.com', 'WendyHarvey90@gmail.com', 'MackenzieGates16@gmail.com', 'AshleyMorris50@gmail.com', 'CodyHorton9@gmail.com', 'ThomasBrownMD46@gmail.com', 'JohnWilliams3@gmail.com', 'ZacharyKaufman6@gmail.com', 'EricaMartinez88@gmail.com', 'TroyHernandez35@gmail.com', 'SheliaMann1@gmail.com', 'TimothyWolf46@gmail.com', 'KristinaPotts45@gmail.com', 'NicoleMoon25@gmail.com', 'MichaelAnthony5@gmail.com', 'JessicaSmith74@gmail.com', 'ElizabethHill18@gmail.com', 'SethJones77@gmail.com', 'JenniferReyes70@gmail.com', 'TiffanyBrown86@gmail.com', 'AntonioPhillipsMD22@gmail.com', 'LindsayStanleyMD14@gmail.com', 'StacyEvans74@gmail.com', 'KevinSchmidt85@gmail.com', 'JenniferHill98@gmail.com', 'EricHarmon67@gmail.com', 'EdwardClarke8@gmail.com', 'JefferyPrice52@gmail.com', 'MarkUnderwood4@gmail.com', 'DanaWhite44@gmail.com', 'DanielCooper54@gmail.com', 'CourtneyPeters40@gmail.com', 'ShannonBryant55@gmail.com', 'ToddWilliams74@gmail.com', 'LoriSchwartz67@gmail.com', 'JamesThompson17@gmail.com', 'Mr.AndrewBrewerMD14@gmail.com', 'KimberlyWatkins68@gmail.com', 'SummerStrickland70@gmail.com', 'JulieWilliams89@gmail.com', 'SarahNicholson87@gmail.com', 'KristinThompson57@gmail.com', 'BrianHart10@gmail.com', 'JeanetteHouston7@gmail.com', 'PeggySalazar13@gmail.com', 'KevinTurner45@gmail.com', 'ElizabethAguirre15@gmail.com', 'MeganRiley51@gmail.com', 'DerekCarpenter22@gmail.com', 'CaseyMason55@gmail.com', 'AmandaAnderson45@gmail.com', 'WilliamMcgrath25@gmail.com', 'JocelynYoung81@gmail.com', 'MelissaBaker80@gmail.com', 'LynnCook24@gmail.com', 'MichaelRobertson5@gmail.com', 'EricAlvarez86@gmail.com', 'BrittanyHuff88@gmail.com', 'JosephRusso11@gmail.com', 'DebraPruitt37@gmail.com', 'AndreaAlexander18@gmail.com', 'XavierPollard58@gmail.com', 'BarryJohnson38@gmail.com', 'EricRodgers63@gmail.com', 'KeithHarris88@gmail.com', 'JasonWalker66@gmail.com', 'EdwardLane77@gmail.com', 'CristinaShea79@gmail.com', 'SharonCooper27@gmail.com', 'StevenGoodwin92@gmail.com', 'TylerDorsey45@gmail.com', 'JackAlexander87@gmail.com', 'RyanMiller11@gmail.com', 'KarlaChan30@gmail.com', 'TerriWheeler21@gmail.com', 'BrandonJohnson5@gmail.com', 'Dr.AmandaSolis56@gmail.com', 'FrederickBonilla86@gmail.com', 'JenniferOlson90@gmail.com', 'CharlesMckenzie88@gmail.com', 'ElizabethSmith24@gmail.com', 'KevinBeltran24@gmail.com', 'Mr.BrandonThomas67@gmail.com', 'AutumnHinton36@gmail.com', 'ShawnPreston24@gmail.com', 'GavinMckinney84@gmail.com', 'KeithMurphy35@gmail.com', 'AndrewBarnes39@gmail.com', 'CynthiaMcclure16@gmail.com', 'ThomasBaxter27@gmail.com', 'ErinElliott20@gmail.com', 'RobertTaylor71@gmail.com', 'MichelleOrr21@gmail.com', 'JamieGibbs69@gmail.com', 'GregoryGuzman24@gmail.com', 'JeremyFlowers93@gmail.com', 'JenniferWhitney17@gmail.com', 'JuliaYoung46@gmail.com', 'TeresaDiaz21@gmail.com', 'ChristopherKing52@gmail.com', 'BrianBurnett64@gmail.com', 'AliciaBryant27@gmail.com', 'RichardRodriguez52@gmail.com', 'JasonWilliams50@gmail.com', 'MichaelRivera37@gmail.com', 'CynthiaBray35@gmail.com', 'MarciaPotts82@gmail.com', 'KristinaGarner52@gmail.com', 'JoshuaSchroeder6@gmail.com', 'KelseyKing19@gmail.com', 'JeffreyRamos96@gmail.com', 'AshleyFrazier37@gmail.com', 'JosephTaylor66@gmail.com', 'KathySullivan98@gmail.com', 'JamesPatterson87@gmail.com', 'MaryHiggins50@gmail.com', 'JamiePatel13@gmail.com', 'EdwardGomez14@gmail.com', 'JacobMurphy19@gmail.com', 'TaraVelasquez79@gmail.com', 'NathanHodge81@gmail.com', 'AlanMarshall65@gmail.com', 'MonicaParks37@gmail.com', 'CalebLopez55@gmail.com', 'JessicaJohnson69@gmail.com', 'AllenFlynn59@gmail.com', 'JeffreySmith74@gmail.com', 'StevenStephens56@gmail.com', 'HannahThompson5@gmail.com', 'AnthonyMitchell4@gmail.com', 'EdwardJensen69@gmail.com', 'KarenBaxter26@gmail.com', 'ChadJohnson86@gmail.com', 'SallyFlowers14@gmail.com', 'RobertPetersen2@gmail.com', 'HelenHumphrey5@gmail.com', 'EvelynSantos1@gmail.com', 'JenniferWard65@gmail.com', 'JacquelineHenryMD29@gmail.com', 'JoannaJimenez17@gmail.com', 'AmandaCastillo69@gmail.com', 'TimothyOdonnell53@gmail.com', 'JosephWard6@gmail.com', 'JillianHays74@gmail.com', 'TiffanyWalsh88@gmail.com', 'CurtisNelson83@gmail.com', 'AnnaWalker85@gmail.com', 'ReneeFleming38@gmail.com', 'LindseyRojas13@gmail.com', 'BrandyLeonard64@gmail.com', 'BrendaGonzalez26@gmail.com', 'CarlosJohnson31@gmail.com']\n"
     ]
    }
   ],
   "source": [
    "# Function to check if '@' is present in a cell\n",
    "def email(cell):\n",
    "    return '@' in str(cell)\n",
    "\n",
    "# Apply the function to each element in the DataFrame\n",
    "filtered_values = df.applymap(email)\n",
    "\n",
    "# Create a list of values containing '@'\n",
    "emails = df[filtered_values].stack().tolist()\n",
    "\n",
    "#Change to string\n",
    "approval_emails = list(set(emails))\n",
    "print (str(approval_emails ))"
   ]
  },
  {
   "cell_type": "code",
   "execution_count": 78,
   "id": "5b3c7264",
   "metadata": {},
   "outputs": [
    {
     "name": "stdout",
     "output_type": "stream",
     "text": [
      "Only found in excel file: ['briansmith62@gmail.com', 'andremccormick44@gmail.com', 'jessicasmith74@gmail.com']\n",
      "Only found in user entry: ['briantrails123@gmail.com', 'chongtesting44@gmail.com', 'tomtesting74@gmail.com']\n",
      "All mismatches: ['briansmith62@gmail.com', 'andremccormick44@gmail.com', 'jessicasmith74@gmail.com', 'briantrails123@gmail.com', 'chongtesting44@gmail.com', 'tomtesting74@gmail.com']\n"
     ]
    }
   ],
   "source": [
    "approval_emails_l = [item.lower().strip() for item in approval_emails]\n",
    "email_addresses_l = [item.lower().strip() for item in email_addresses]\n",
    "\n",
    "# Find elements in approval_emails_l but not in email_addresses_l\n",
    "mismatch1 = list(set(approval_emails_l) - set(email_addresses_l))\n",
    "\n",
    "# Find elements in email_addresses_l but not in approval_emails_l\n",
    "mismatch2 = list(set(email_addresses_l) - set(approval_emails_l))\n",
    "\n",
    "# Combine the mismatches\n",
    "all_mismatches = mismatch1 + mismatch2\n",
    "\n",
    "# Print the results\n",
    "print(\"Only found in excel file:\", mismatch1)\n",
    "print(\"Only found in user entry:\", mismatch2)\n",
    "print(\"All mismatches:\", all_mismatches)\n"
   ]
  }
 ],
 "metadata": {
  "kernelspec": {
   "display_name": "Python 3 (ipykernel)",
   "language": "python",
   "name": "python3"
  },
  "language_info": {
   "codemirror_mode": {
    "name": "ipython",
    "version": 3
   },
   "file_extension": ".py",
   "mimetype": "text/x-python",
   "name": "python",
   "nbconvert_exporter": "python",
   "pygments_lexer": "ipython3",
   "version": "3.9.13"
  }
 },
 "nbformat": 4,
 "nbformat_minor": 5
}
